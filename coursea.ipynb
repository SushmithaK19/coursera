{
 "cells": [
  {
   "cell_type": "markdown",
   "id": "46fc6280",
   "metadata": {},
   "source": [
    "# myproject"
   ]
  },
  {
   "cell_type": "markdown",
   "id": "fcfd72fc",
   "metadata": {},
   "source": [
    "\n",
    "# Introduction"
   ]
  },
  {
   "cell_type": "markdown",
   "id": "3a69f1d5",
   "metadata": {},
   "source": [
    "Welcome to this notebook on data science tools and arithmetic expressions. In this notebook, we will be exploring some popular languages and libraries used in data science, as well as basic arithmetic operations that are often performed in data analysis."
   ]
  },
  {
   "cell_type": "markdown",
   "id": "b18957cb",
   "metadata": {},
   "source": [
    "# Data Science Languages"
   ]
  },
  {
   "cell_type": "markdown",
   "id": "4952730c",
   "metadata": {},
   "source": [
    "Python\n",
    "R\n",
    "SQL\n",
    "Julia\n",
    "Scala"
   ]
  },
  {
   "cell_type": "markdown",
   "id": "b532cd10",
   "metadata": {},
   "source": [
    "# Data Science Libraries"
   ]
  },
  {
   "cell_type": "code",
   "execution_count": null,
   "id": "40c00db0",
   "metadata": {},
   "outputs": [],
   "source": [
    "NumPy\n",
    "Pandas\n",
    "Matplotlib\n",
    "Seaborn\n",
    "Scikit-learn"
   ]
  },
  {
   "cell_type": "markdown",
   "id": "8ae27bad",
   "metadata": {},
   "source": [
    "# Data Science Tools Table"
   ]
  },
  {
   "cell_type": "code",
   "execution_count": null,
   "id": "7be8fc3e",
   "metadata": {},
   "outputs": [],
   "source": [
    "Tool\tDescription\n",
    "Jupyter Notebook\tInteractive coding environment\n",
    "Spyder\tIntegrated Development Environment (IDE)\n",
    "Tableau\tData visualization tool\n",
    "Apache Spark\tDistributed computing engine\n",
    "TensorFlow\tMachine learning framework"
   ]
  },
  {
   "cell_type": "markdown",
   "id": "1eeb5b9e",
   "metadata": {},
   "source": [
    "# Arithmetic Expression Examples"
   ]
  },
  {
   "cell_type": "markdown",
   "id": "9454f9f6",
   "metadata": {},
   "source": [
    "In data science, arithmetic operations are often used to manipulate and analyze data. Some common arithmetic expressions include addition, subtraction, multiplication, and division."
   ]
  },
  {
   "cell_type": "code",
   "execution_count": 2,
   "id": "783ffafe",
   "metadata": {},
   "outputs": [
    {
     "name": "stdout",
     "output_type": "stream",
     "text": [
      "52\n"
     ]
    }
   ],
   "source": [
    "a = 5\n",
    "b = 10\n",
    "c = a * b + 2\n",
    "print(c)\n"
   ]
  },
  {
   "cell_type": "code",
   "execution_count": 3,
   "id": "a991e2a5",
   "metadata": {},
   "outputs": [
    {
     "name": "stdout",
     "output_type": "stream",
     "text": [
      "2.5\n"
     ]
    }
   ],
   "source": [
    "minutes = 150\n",
    "hours = minutes / 60\n",
    "print(hours)\n"
   ]
  },
  {
   "cell_type": "markdown",
   "id": "4f47750f",
   "metadata": {},
   "source": [
    "# Objectives"
   ]
  },
  {
   "cell_type": "code",
   "execution_count": null,
   "id": "6e48932c",
   "metadata": {},
   "outputs": [],
   "source": [
    "By the end of this notebook, you will be able to:\n",
    "\n",
    "Understand and list popular data science languages and libraries.\n",
    "Familiarize with popular data science tools.\n",
    "Perform basic arithmetic operations in Python."
   ]
  },
  {
   "cell_type": "markdown",
   "id": "2c5217a0",
   "metadata": {},
   "source": [
    "# Author"
   ]
  },
  {
   "cell_type": "markdown",
   "id": "74060c0c",
   "metadata": {},
   "source": [
    "This notebook was created by sushmitha k."
   ]
  },
  {
   "cell_type": "code",
   "execution_count": null,
   "id": "b027025d",
   "metadata": {},
   "outputs": [],
   "source": []
  }
 ],
 "metadata": {
  "kernelspec": {
   "display_name": "Python 3 (ipykernel)",
   "language": "python",
   "name": "python3"
  },
  "language_info": {
   "codemirror_mode": {
    "name": "ipython",
    "version": 3
   },
   "file_extension": ".py",
   "mimetype": "text/x-python",
   "name": "python",
   "nbconvert_exporter": "python",
   "pygments_lexer": "ipython3",
   "version": "3.9.13"
  }
 },
 "nbformat": 4,
 "nbformat_minor": 5
}
